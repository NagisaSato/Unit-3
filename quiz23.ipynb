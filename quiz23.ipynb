{
  "nbformat": 4,
  "nbformat_minor": 0,
  "metadata": {
    "colab": {
      "name": "quiz23.ipynb",
      "provenance": [],
      "authorship_tag": "ABX9TyOi4ChIfCRn7q3N82/zcJ8N",
      "include_colab_link": true
    },
    "kernelspec": {
      "name": "python3",
      "display_name": "Python 3"
    },
    "language_info": {
      "name": "python"
    }
  },
  "cells": [
    {
      "cell_type": "markdown",
      "metadata": {
        "id": "view-in-github",
        "colab_type": "text"
      },
      "source": [
        "<a href=\"https://colab.research.google.com/github/NagisaSato/Unit-3/blob/main/quiz23.ipynb\" target=\"_parent\"><img src=\"https://colab.research.google.com/assets/colab-badge.svg\" alt=\"Open In Colab\"/></a>"
      ]
    },
    {
      "cell_type": "code",
      "execution_count": 3,
      "metadata": {
        "colab": {
          "base_uri": "https://localhost:8080/"
        },
        "id": "7d_fIYhrZCL3",
        "outputId": "497b30b6-01ca-491a-9d91-ac3c1f1a90d8"
      },
      "outputs": [
        {
          "output_type": "stream",
          "name": "stdout",
          "text": [
            "15 17 19 21 23 25 27 29 31 33 35 37 39 41 43 45 47 49 51 53 55 57 59 61 63 65 67 69 71 73 75 77 79 \n",
            "1 3 \n"
          ]
        }
      ],
      "source": [
        "def quiz23(A:int, B:int) -> str:\n",
        "    result = ''\n",
        "    for i in range(A, B+1):\n",
        "        if i % 2 == 1:\n",
        "            result += f'{i}' + ' '\n",
        "    return result\n",
        "\n",
        "print(quiz23(15, 80))\n",
        "print(quiz23(1, 4))"
      ]
    }
  ]
}