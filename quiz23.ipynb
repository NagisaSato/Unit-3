{
  "nbformat": 4,
  "nbformat_minor": 0,
  "metadata": {
    "colab": {
      "name": "quiz23",
      "provenance": [],
      "authorship_tag": "ABX9TyOB9rLY/tzrnMeezJGcpDQ0",
      "include_colab_link": true
    },
    "kernelspec": {
      "name": "python3",
      "display_name": "Python 3"
    },
    "language_info": {
      "name": "python"
    }
  },
  "cells": [
    {
      "cell_type": "markdown",
      "metadata": {
        "id": "view-in-github",
        "colab_type": "text"
      },
      "source": [
        "<a href=\"https://colab.research.google.com/github/NagisaSato/Unit-3/blob/main/quiz23.ipynb\" target=\"_parent\"><img src=\"https://colab.research.google.com/assets/colab-badge.svg\" alt=\"Open In Colab\"/></a>"
      ]
    },
    {
      "cell_type": "code",
      "execution_count": 6,
      "metadata": {
        "colab": {
          "base_uri": "https://localhost:8080/"
        },
        "id": "lcgvl9GUE-9X",
        "outputId": "ade78c5f-b23f-4586-8d7c-487ab0c03cc5"
      },
      "outputs": [
        {
          "output_type": "stream",
          "name": "stdout",
          "text": [
            "11, 13, 15, 17, 19, \n"
          ]
        }
      ],
      "source": [
        "# 90 seconds Create a function that prints all the odd numbers from integers A to B which are provided as inputs (A>B)\n",
        "\n",
        "# odd_numbers(A:int, B:int)\n",
        "\n",
        "# Example:\n",
        "\n",
        "# odd_numbers(A=3, B=10) -> 3, 5, 7, 9\n",
        "# odd_numbers(A=0, B=5) -> 1, 3, 5 \n",
        "# odd_numbers(A=10, B=1) -> “error”\n",
        "\n",
        "def odd_numbers(A:int, B:int):\n",
        "  num_list = ''\n",
        "  for i in range(A, B+1):\n",
        "    if i % 2 == 1:\n",
        "      num_list += f'{i}, ' + ''\n",
        "  return num_list\n",
        "\n",
        "print(odd_numbers(10,20))\n"
      ]
    }
  ]
}