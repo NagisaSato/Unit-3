{
  "nbformat": 4,
  "nbformat_minor": 0,
  "metadata": {
    "colab": {
      "name": "quiz24.ipynb",
      "provenance": [],
      "authorship_tag": "ABX9TyOj81Nnp+M7AGjNra34HxCQ",
      "include_colab_link": true
    },
    "kernelspec": {
      "name": "python3",
      "display_name": "Python 3"
    },
    "language_info": {
      "name": "python"
    }
  },
  "cells": [
    {
      "cell_type": "markdown",
      "metadata": {
        "id": "view-in-github",
        "colab_type": "text"
      },
      "source": [
        "<a href=\"https://colab.research.google.com/github/NagisaSato/Unit-3/blob/main/quiz24.ipynb\" target=\"_parent\"><img src=\"https://colab.research.google.com/assets/colab-badge.svg\" alt=\"Open In Colab\"/></a>"
      ]
    },
    {
      "cell_type": "code",
      "execution_count": 1,
      "metadata": {
        "colab": {
          "base_uri": "https://localhost:8080/"
        },
        "id": "kPQNA0VXZn2c",
        "outputId": "0fccbab0-2057-4521-dd6b-d13f2fceaaca"
      },
      "outputs": [
        {
          "output_type": "stream",
          "name": "stdout",
          "text": [
            "v\n"
          ]
        }
      ],
      "source": [
        "def quiz24(x:str):\n",
        "  if x < 25:\n",
        "    y = chr(x+96)\n",
        "  else:\n",
        "    y = \"Error\"\n",
        "  return y\n",
        "\n",
        "print(quiz24(22))"
      ]
    }
  ]
}