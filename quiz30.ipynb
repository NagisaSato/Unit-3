{
  "nbformat": 4,
  "nbformat_minor": 0,
  "metadata": {
    "colab": {
      "name": "quiz30.ipynb",
      "provenance": [],
      "authorship_tag": "ABX9TyOaXt2z893FEH2l0/3LwDA/",
      "include_colab_link": true
    },
    "kernelspec": {
      "name": "python3",
      "display_name": "Python 3"
    },
    "language_info": {
      "name": "python"
    }
  },
  "cells": [
    {
      "cell_type": "markdown",
      "metadata": {
        "id": "view-in-github",
        "colab_type": "text"
      },
      "source": [
        "<a href=\"https://colab.research.google.com/github/NagisaSato/Unit-3/blob/main/quiz30.ipynb\" target=\"_parent\"><img src=\"https://colab.research.google.com/assets/colab-badge.svg\" alt=\"Open In Colab\"/></a>"
      ]
    },
    {
      "cell_type": "code",
      "execution_count": null,
      "metadata": {
        "id": "vm2BtOIFg1oc"
      },
      "outputs": [],
      "source": [
        "##quiz30\n",
        "\n",
        "class broken_quiz:\n",
        "    def __init__(self, code:str, seq:str):\n",
        "        self.code = code\n",
        "        self.seq = seq\n",
        "        print(\"object created\")\n",
        "\n",
        "    def solve(self):\n",
        "        n = len(self.code)\n",
        "        if n!= len(self.seq):\n",
        "            return -1\n",
        "        bottomindx = 0\n",
        "        indx = 0\n",
        "        solution = [\"\" for _ in range(n)]\n",
        "        for i in range(len(self.code)-1,-1,-1):\n",
        "            curr_seq = self.seq[i]\n",
        "            curr_cod = self.code[i]\n",
        "            if 'S' in curr_seq:\n",
        "                solution[indx] = curr_cod\n",
        "                indx += 1\n",
        "                bottomindx += 1\n",
        "            else:\n",
        "                solution[i] = curr_cod\n",
        "        return \"\".join(solution)\n",
        "\n",
        "test_case = broken_quiz(code=\"231 :ELPMAXE!\", seq=\"SESSSSSSSSSSE\")\n",
        "print(test_case.solve())"
      ]
    }
  ]
}