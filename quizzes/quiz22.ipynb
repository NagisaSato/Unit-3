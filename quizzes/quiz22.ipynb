{
  "nbformat": 4,
  "nbformat_minor": 0,
  "metadata": {
    "colab": {
      "name": "quiz22.ipynb",
      "provenance": [],
      "authorship_tag": "ABX9TyMUQzyw9S9X8w4KCh+h+y1k",
      "include_colab_link": true
    },
    "kernelspec": {
      "name": "python3",
      "display_name": "Python 3"
    },
    "language_info": {
      "name": "python"
    }
  },
  "cells": [
    {
      "cell_type": "markdown",
      "metadata": {
        "id": "view-in-github",
        "colab_type": "text"
      },
      "source": [
        "<a href=\"https://colab.research.google.com/github/NagisaSato/Unit-3/blob/main/quiz22.ipynb\" target=\"_parent\"><img src=\"https://colab.research.google.com/assets/colab-badge.svg\" alt=\"Open In Colab\"/></a>"
      ]
    },
    {
      "cell_type": "code",
      "execution_count": 2,
      "metadata": {
        "colab": {
          "base_uri": "https://localhost:8080/"
        },
        "id": "d845-BkkXeuM",
        "outputId": "e38e1678-985b-49be-877e-cd3642559016"
      },
      "outputs": [
        {
          "output_type": "stream",
          "name": "stdout",
          "text": [
            "H3o W3d \n"
          ]
        }
      ],
      "source": [
        "def quiz22(input):\n",
        "  output = \"\"\n",
        "  word = input.split()\n",
        "  for i in word:\n",
        "    if len(i) <= 2:\n",
        "      output += (i + ' ')\n",
        "    else:\n",
        "      output += (i[0] + str(len(i)-2) + i[-1] + ' ')\n",
        "\n",
        "  return output \n",
        "\n",
        "\n",
        "print(quiz22(\"Hello World\"))"
      ]
    }
  ]
}
