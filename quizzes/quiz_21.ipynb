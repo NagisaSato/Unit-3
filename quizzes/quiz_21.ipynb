{
  "nbformat": 4,
  "nbformat_minor": 0,
  "metadata": {
    "colab": {
      "name": "quiz.21.ipynb",
      "provenance": [],
      "authorship_tag": "ABX9TyOB0W91gOEBKMJiO1d0jXts",
      "include_colab_link": true
    },
    "kernelspec": {
      "name": "python3",
      "display_name": "Python 3"
    },
    "language_info": {
      "name": "python"
    }
  },
  "cells": [
    {
      "cell_type": "markdown",
      "metadata": {
        "id": "view-in-github",
        "colab_type": "text"
      },
      "source": [
        "<a href=\"https://colab.research.google.com/github/NagisaSato/Unit-3/blob/main/quiz_21.ipynb\" target=\"_parent\"><img src=\"https://colab.research.google.com/assets/colab-badge.svg\" alt=\"Open In Colab\"/></a>"
      ]
    },
    {
      "cell_type": "code",
      "execution_count": 4,
      "metadata": {
        "colab": {
          "base_uri": "https://localhost:8080/"
        },
        "id": "M8hQqmt1Vb8q",
        "outputId": "3945178d-9bde-4df2-eedc-a6d0f49ed76a"
      },
      "outputs": [
        {
          "output_type": "stream",
          "name": "stdout",
          "text": [
            "17.8*1e5\n"
          ]
        }
      ],
      "source": [
        "def quiz26(n:int):\n",
        "  N = str(n)\n",
        "  calc = n/(10**(len(N)-2))\n",
        "  calc2 = len(N)-1\n",
        "  calc3 = (f\"{calc}*1e{calc2}\")\n",
        "  return calc3\n",
        "\n",
        "print(quiz26(178000))\n",
        "\n"
      ]
    }
  ]
}
