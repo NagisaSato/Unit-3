{
  "nbformat": 4,
  "nbformat_minor": 0,
  "metadata": {
    "colab": {
      "name": "quiz32.ipynb",
      "provenance": [],
      "authorship_tag": "ABX9TyM2exHwe8nj40Es1MYztWX8",
      "include_colab_link": true
    },
    "kernelspec": {
      "name": "python3",
      "display_name": "Python 3"
    },
    "language_info": {
      "name": "python"
    }
  },
  "cells": [
    {
      "cell_type": "markdown",
      "metadata": {
        "id": "view-in-github",
        "colab_type": "text"
      },
      "source": [
        "<a href=\"https://colab.research.google.com/github/NagisaSato/Unit-3/blob/main/quiz32.ipynb\" target=\"_parent\"><img src=\"https://colab.research.google.com/assets/colab-badge.svg\" alt=\"Open In Colab\"/></a>"
      ]
    },
    {
      "cell_type": "code",
      "execution_count": 1,
      "metadata": {
        "colab": {
          "base_uri": "https://localhost:8080/"
        },
        "id": "9h_ekgsnk2Kc",
        "outputId": "a4bae19a-a2a9-4852-85bf-c4dc8cffb642"
      },
      "outputs": [
        {
          "output_type": "stream",
          "name": "stdout",
          "text": [
            "2\n"
          ]
        }
      ],
      "source": [
        "class letter:\n",
        "    def __init__(self, text: str, letter: str):\n",
        "        self.text = text\n",
        "        self.letter = letter\n",
        "\n",
        "    def countLetter(self) -> int:\n",
        "        counting = 0\n",
        "        for i in range (0, len(self.text)):\n",
        "            if self.text[i] == self.letter:\n",
        "                counting += 1\n",
        "        return counting\n",
        "\n",
        "obj=letter(text = \"The world is vast, vast\", letter = \"a\")\n",
        "print(obj.countLetter())"
      ]
    }
  ]
}
