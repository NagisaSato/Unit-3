{
  "nbformat": 4,
  "nbformat_minor": 0,
  "metadata": {
    "colab": {
      "name": "quiz29.ipynb",
      "provenance": [],
      "authorship_tag": "ABX9TyPQuazv8CXAb9eSajiAx598",
      "include_colab_link": true
    },
    "kernelspec": {
      "name": "python3",
      "display_name": "Python 3"
    },
    "language_info": {
      "name": "python"
    }
  },
  "cells": [
    {
      "cell_type": "markdown",
      "metadata": {
        "id": "view-in-github",
        "colab_type": "text"
      },
      "source": [
        "<a href=\"https://colab.research.google.com/github/NagisaSato/Unit-3/blob/main/quiz29.ipynb\" target=\"_parent\"><img src=\"https://colab.research.google.com/assets/colab-badge.svg\" alt=\"Open In Colab\"/></a>"
      ]
    },
    {
      "cell_type": "code",
      "execution_count": 3,
      "metadata": {
        "colab": {
          "base_uri": "https://localhost:8080/"
        },
        "id": "aDmCT3NDcKSM",
        "outputId": "102250c2-1162-4468-f3f2-d19e2f059399"
      },
      "outputs": [
        {
          "output_type": "stream",
          "name": "stdout",
          "text": [
            "1091\n"
          ]
        }
      ],
      "source": [
        "def quiz29(num:int):\n",
        "    output = 0 \n",
        "    if num % 2 == 1: \n",
        "        output = 0\n",
        "    else: \n",
        "        while num != 0: \n",
        "            num /= 2 \n",
        "            output += 1 \n",
        "    return output \n",
        "output=quiz29(54254)\n",
        "print(output)"
      ]
    }
  ]
}
