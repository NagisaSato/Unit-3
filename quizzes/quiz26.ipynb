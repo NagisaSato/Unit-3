{
  "nbformat": 4,
  "nbformat_minor": 0,
  "metadata": {
    "colab": {
      "name": "quiz26.ipynb",
      "provenance": [],
      "authorship_tag": "ABX9TyPBBU5qr7KYQTLjwayXj1By",
      "include_colab_link": true
    },
    "kernelspec": {
      "name": "python3",
      "display_name": "Python 3"
    },
    "language_info": {
      "name": "python"
    }
  },
  "cells": [
    {
      "cell_type": "markdown",
      "metadata": {
        "id": "view-in-github",
        "colab_type": "text"
      },
      "source": [
        "<a href=\"https://colab.research.google.com/github/NagisaSato/Unit-3/blob/main/quiz26.ipynb\" target=\"_parent\"><img src=\"https://colab.research.google.com/assets/colab-badge.svg\" alt=\"Open In Colab\"/></a>"
      ]
    },
    {
      "cell_type": "code",
      "execution_count": null,
      "metadata": {
        "colab": {
          "base_uri": "https://localhost:8080/"
        },
        "id": "99Oyt-U-a4KJ",
        "outputId": "4508d602-6bbf-404a-d610-8f38039f882f"
      },
      "outputs": [
        {
          "output_type": "stream",
          "name": "stdout",
          "text": [
            "There is a random number chosen\n"
          ]
        }
      ],
      "source": [
        "import random\n",
        "print(\"There is a random number chosen\")\n",
        "x = random.randint(0,101)\n",
        "y = int(input(\"Guess the number: \"))\n",
        "while y!=x:\n",
        "  if y<x:\n",
        "    y = int(input(\"higher number: \"))\n",
        "  elif y>x:\n",
        "    y = int(input(\"lower number \"))\n",
        "    \n",
        "print(f\"correct number -> {y}\")\n",
        "\n"
      ]
    }
  ]
}
